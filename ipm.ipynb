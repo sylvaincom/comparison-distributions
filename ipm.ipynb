{
 "cells": [
  {
   "cell_type": "markdown",
   "metadata": {},
   "source": [
    "<h1> Empirical estimation of IPMs (integral probability metrics)<span class=\"tocSkip\"></span></h1>\n",
    "\n",
    "Author: [Sylvain Combettes](https://github.com/sylvaincom).\n",
    "\n",
    "Last update: Jan 29, 2020.\n",
    "\n",
    "---\n",
    "This notebook deals with the empirical estimation of IPMs (integral probability metrics) and completes my report on the _Comparison of empirical probability distributions_. As $f$-divergences work on probability distributions, IPMs work on samples drawn from the probability distributions. Actually, for IPMs, we only focus on the Kantorovich metric.\n",
    "\n",
    "<br/>\n",
    "\n",
    "<div class=\"alert alert-info\"><h4>README<span class=\"tocSkip\"></span></h4><p>\n",
    "The best way to open this Jupyter Notebook is to use the table of contents from the extensions called <code>nbextensions</code>. See <a href=\"https://towardsdatascience.com/4-awesome-tips-for-enhancing-jupyter-notebooks-4d8905f926c5\">4 Awesome Tips for Enhancing Jupyter Notebooks</a> by George Seif.\n",
    "    \n",
    "The Python version is 3.7.3.\n",
    "</p></div>"
   ]
  },
  {
   "cell_type": "markdown",
   "metadata": {
    "toc": true
   },
   "source": [
    "<h1>Table of Contents<span class=\"tocSkip\"></span></h1>\n",
    "<div class=\"toc\"><ul class=\"toc-item\"><li><span><a href=\"#Preliminary:-Solving-a-linear-programming-problem-using-PuLP\" data-toc-modified-id=\"Preliminary:-Solving-a-linear-programming-problem-using-PuLP-1\"><span class=\"toc-item-num\">1&nbsp;&nbsp;</span>Preliminary: Solving a linear programming problem using <code>PuLP</code></a></span></li><li><span><a href=\"#Example-of-empirical-estimation-of-the-Kantorovich-metric-$W$\" data-toc-modified-id=\"Example-of-empirical-estimation-of-the-Kantorovich-metric-$W$-2\"><span class=\"toc-item-num\">2&nbsp;&nbsp;</span>Example of empirical estimation of the Kantorovich metric $W$</a></span><ul class=\"toc-item\"><li><span><a href=\"#Getting-the-canonical-form-of-the-linear-programming-problem\" data-toc-modified-id=\"Getting-the-canonical-form-of-the-linear-programming-problem-2.1\"><span class=\"toc-item-num\">2.1&nbsp;&nbsp;</span>Getting the canonical form of the linear programming problem</a></span></li><li><span><a href=\"#Using-PuLP-to-solve-the-obtained-linear-programming-problem\" data-toc-modified-id=\"Using-PuLP-to-solve-the-obtained-linear-programming-problem-2.2\"><span class=\"toc-item-num\">2.2&nbsp;&nbsp;</span>Using <code>PuLP</code> to solve the obtained linear programming problem</a></span></li></ul></li><li><span><a href=\"#Defining-a-generic-function-for-computing-the-estimate-of-the-Kantorovich-metric-$W$\" data-toc-modified-id=\"Defining-a-generic-function-for-computing-the-estimate-of-the-Kantorovich-metric-$W$-3\"><span class=\"toc-item-num\">3&nbsp;&nbsp;</span>Defining a generic function for computing the estimate of the Kantorovich metric $W$</a></span><ul class=\"toc-item\"><li><span><a href=\"#Defining-the-generic-function\" data-toc-modified-id=\"Defining-the-generic-function-3.1\"><span class=\"toc-item-num\">3.1&nbsp;&nbsp;</span>Defining the generic function</a></span></li><li><span><a href=\"#The-memory-error-due-to-the-linear-programming-problem\" data-toc-modified-id=\"The-memory-error-due-to-the-linear-programming-problem-3.2\"><span class=\"toc-item-num\">3.2&nbsp;&nbsp;</span>The memory error due to the linear programming problem</a></span></li></ul></li><li><span><a href=\"#Running-several-simulations-to-interpret-$W$\" data-toc-modified-id=\"Running-several-simulations-to-interpret-$W$-4\"><span class=\"toc-item-num\">4&nbsp;&nbsp;</span>Running several simulations to interpret $W$</a></span><ul class=\"toc-item\"><li><span><a href=\"#Comparing-two-normal-distributions\" data-toc-modified-id=\"Comparing-two-normal-distributions-4.1\"><span class=\"toc-item-num\">4.1&nbsp;&nbsp;</span>Comparing two normal distributions</a></span><ul class=\"toc-item\"><li><span><a href=\"#Influence-of-the-difference-of-means-$\\mu_q-\\mu_p$-on-$W$\" data-toc-modified-id=\"Influence-of-the-difference-of-means-$\\mu_q-\\mu_p$-on-$W$-4.1.1\"><span class=\"toc-item-num\">4.1.1&nbsp;&nbsp;</span>Influence of the difference of means $\\mu_q-\\mu_p$ on $W$</a></span></li><li><span><a href=\"#Influence-of-the-difference-of-standard-deviations-$\\sigma_q-\\sigma_p$-on-$W$\" data-toc-modified-id=\"Influence-of-the-difference-of-standard-deviations-$\\sigma_q-\\sigma_p$-on-$W$-4.1.2\"><span class=\"toc-item-num\">4.1.2&nbsp;&nbsp;</span>Influence of the difference of standard deviations $\\sigma_q-\\sigma_p$ on $W$</a></span></li></ul></li><li><span><a href=\"#Comparison-of-two-uniform-distributions\" data-toc-modified-id=\"Comparison-of-two-uniform-distributions-4.2\"><span class=\"toc-item-num\">4.2&nbsp;&nbsp;</span>Comparison of two uniform distributions</a></span></li></ul></li><li><span><a href=\"#Choquet-integral\" data-toc-modified-id=\"Choquet-integral-5\"><span class=\"toc-item-num\">5&nbsp;&nbsp;</span>Choquet integral</a></span><ul class=\"toc-item\"><li><span><a href=\"#Normal-distributions\" data-toc-modified-id=\"Normal-distributions-5.1\"><span class=\"toc-item-num\">5.1&nbsp;&nbsp;</span>Normal distributions</a></span></li></ul></li></ul></div>"
   ]
  },
  {
   "cell_type": "markdown",
   "metadata": {},
   "source": [
    "<h2> Imports<span class=\"tocSkip\"></span></h2>"
   ]
  },
  {
   "cell_type": "code",
   "execution_count": 1,
   "metadata": {},
   "outputs": [],
   "source": [
    "# pip install pulp\n",
    "from pulp import *\n",
    "\n",
    "import numpy as np\n",
    "from matplotlib import pyplot as plt\n",
    "import seaborn as sns\n",
    "sns.set()\n",
    "from sklearn.linear_model import LinearRegression\n",
    "\n",
    "from time import process_time\n",
    "import datetime"
   ]
  },
  {
   "cell_type": "markdown",
   "metadata": {},
   "source": [
    "We configure the size of the plots:"
   ]
  },
  {
   "cell_type": "code",
   "execution_count": 2,
   "metadata": {},
   "outputs": [],
   "source": [
    "plt.rcParams[\"figure.figsize\"] = (8,6)"
   ]
  },
  {
   "cell_type": "markdown",
   "metadata": {},
   "source": [
    "# Preliminary: Solving a linear programming problem using `PuLP`\n",
    "\n",
    "As I am new to `PuLP`, this section constitutes a short introduction of how `PuLP` works.\n",
    "This section is inspired from the official `PuLP` [documentation](https://pypi.org/project/PuLP/)."
   ]
  },
  {
   "cell_type": "markdown",
   "metadata": {},
   "source": [
    "Use `LpVariable()` to create new variables. To create a variable $0 \\leq x \\leq 3$:"
   ]
  },
  {
   "cell_type": "code",
   "execution_count": 3,
   "metadata": {},
   "outputs": [],
   "source": [
    "x = LpVariable(\"x\", 0, 3)"
   ]
  },
  {
   "cell_type": "markdown",
   "metadata": {},
   "source": [
    "To create a variable $0 \\leq y \\leq 1$:"
   ]
  },
  {
   "cell_type": "code",
   "execution_count": 4,
   "metadata": {},
   "outputs": [],
   "source": [
    "y = LpVariable(\"y\", 0, 1)"
   ]
  },
  {
   "cell_type": "markdown",
   "metadata": {},
   "source": [
    "Use `LpProblem()` to create new problems. Create `“myProblem”`:"
   ]
  },
  {
   "cell_type": "code",
   "execution_count": 5,
   "metadata": {},
   "outputs": [],
   "source": [
    "prob = LpProblem(\"myProblem\", LpMinimize)"
   ]
  },
  {
   "cell_type": "markdown",
   "metadata": {},
   "source": [
    "Combine variables to create expressions and constraints, then add them to the problem:"
   ]
  },
  {
   "cell_type": "code",
   "execution_count": 6,
   "metadata": {},
   "outputs": [],
   "source": [
    "prob += x + y <= 2"
   ]
  },
  {
   "cell_type": "markdown",
   "metadata": {},
   "source": [
    "If you add an expression (not a constraint), it will become the objective:"
   ]
  },
  {
   "cell_type": "code",
   "execution_count": 7,
   "metadata": {},
   "outputs": [],
   "source": [
    "prob += -4*x + y"
   ]
  },
  {
   "cell_type": "markdown",
   "metadata": {},
   "source": [
    "Our `prob` variable contains all the data of our linear programming problem:"
   ]
  },
  {
   "cell_type": "code",
   "execution_count": 8,
   "metadata": {},
   "outputs": [
    {
     "name": "stdout",
     "output_type": "stream",
     "text": [
      "myProblem:\n",
      "MINIMIZE\n",
      "-4*x + 1*y + 0\n",
      "SUBJECT TO\n",
      "_C1: x + y <= 2\n",
      "\n",
      "VARIABLES\n",
      "x <= 3 Continuous\n",
      "y <= 1 Continuous\n",
      "\n"
     ]
    }
   ],
   "source": [
    "print(prob)"
   ]
  },
  {
   "cell_type": "markdown",
   "metadata": {},
   "source": [
    "To solve with the default included solver:"
   ]
  },
  {
   "cell_type": "code",
   "execution_count": 9,
   "metadata": {},
   "outputs": [],
   "source": [
    "status = prob.solve()"
   ]
  },
  {
   "cell_type": "markdown",
   "metadata": {},
   "source": [
    "Display the status of the solution:"
   ]
  },
  {
   "cell_type": "code",
   "execution_count": 10,
   "metadata": {},
   "outputs": [
    {
     "data": {
      "text/plain": [
       "'Optimal'"
      ]
     },
     "execution_count": 10,
     "metadata": {},
     "output_type": "execute_result"
    }
   ],
   "source": [
    "LpStatus[status]"
   ]
  },
  {
   "cell_type": "markdown",
   "metadata": {},
   "source": [
    "You can get the value of the variables using `value()`:"
   ]
  },
  {
   "cell_type": "code",
   "execution_count": 11,
   "metadata": {},
   "outputs": [
    {
     "name": "stdout",
     "output_type": "stream",
     "text": [
      "The solution is (2.00, 0.00) and the objective function is -8.00\n"
     ]
    }
   ],
   "source": [
    "print('The solution is (%1.2f, %1.2f) and the objective function is %1.2f'\n",
    "      % (value(x), value(y), value(prob.objective)))"
   ]
  },
  {
   "cell_type": "markdown",
   "metadata": {},
   "source": [
    "We can check this result graphically using [GeoGebra](https://www.geogebra.org/) and this [tutorial](https://www.youtube.com/watch?v=4vvlmSJqJto). With GeoGebra, we obtained the same result as with `PuLP`:\n",
    "\n",
    "<img src=\"https://raw.githubusercontent.com/sylvaincom/comparison-distributions/master/img/geogebra.png\" width=\"600\" height=\"539.6\">\n",
    "\n",
    "For more information on `PuLP`, see examples on [GitHub](https://github.com/coin-or/pulp/tree/master/examples)."
   ]
  },
  {
   "cell_type": "markdown",
   "metadata": {},
   "source": [
    "# Example of empirical estimation of the Kantorovich metric $W$\n",
    "\n",
    "We take the example from the report at subsubsection 2.2.2. Our linear programming problem in the canonical form is:\n",
    "\n",
    "\\begin{equation}\n",
    "\\begin{cases}\n",
    "    \\max \\left(c^Ta\\right) \\\\\n",
    "    Ma \\leq b\n",
    "\\end{cases}\n",
    "\\end{equation}\n",
    "\n",
    "With $N=4$, we have:\n",
    "\n",
    "\\begin{equation}\n",
    "c =\n",
    "\\begin{pmatrix}\n",
    "    \\widetilde{Y}_1 \\\\\n",
    "    \\widetilde{Y}_2 \\\\\n",
    "    \\widetilde{Y}_3 \\\\\n",
    "    \\widetilde{Y}_4\n",
    "\\end{pmatrix} \\quad \\quad\n",
    "M = \\begin{pmatrix}\n",
    "        1 & -1 & 0 & 0 \\\\\n",
    "        -1 & 1 & 0 & 0 \\\\\n",
    "        1 & 0 & -1 & 0 \\\\\n",
    "        -1 & 0 & 1 & 0 \\\\\n",
    "        1 & 0 & 0 & -1 \\\\\n",
    "        -1 & 0 & 0 & 1 \\\\\n",
    "        0 & 1 & -1 & 0 \\\\\n",
    "        0 & -1 & 1 & 0 \\\\\n",
    "        0 & 1 & 0 & -1 \\\\\n",
    "        0 & -1 & 0 & 1 \\\\\n",
    "        0 & 0 & 1 & -1 \\\\\n",
    "        0 & 0 & -1 & 1\n",
    "    \\end{pmatrix} \\quad \\quad\n",
    "b = \\begin{pmatrix}\n",
    "        \\rho\\left(X_1, X_2\\right) \\\\\n",
    "        \\rho\\left(X_1, X_2\\right) \\\\\n",
    "        \\rho\\left(X_1, X_3\\right) \\\\\n",
    "        \\rho\\left(X_1, X_3\\right) \\\\\n",
    "        \\rho\\left(X_1, X_4\\right) \\\\\n",
    "        \\rho\\left(X_1, X_4\\right) \\\\\n",
    "        \\rho\\left(X_2, X_3\\right) \\\\\n",
    "        \\rho\\left(X_2, X_3\\right) \\\\\n",
    "        \\rho\\left(X_2, X_4\\right) \\\\\n",
    "        \\rho\\left(X_2, X_4\\right) \\\\\n",
    "        \\rho\\left(X_3, X_4\\right) \\\\\n",
    "        \\rho\\left(X_3, X_4\\right)\n",
    "    \\end{pmatrix}\n",
    "\\end{equation}"
   ]
  },
  {
   "cell_type": "markdown",
   "metadata": {},
   "source": [
    "We take the same example as in the report at subsubsection 2.1.3.\n",
    "\n",
    "We choose the samples $\\left\\{X_1^{(1)}, X_2^{(1)}, \\ldots, X_m^{(1)}\\right\\}$ drawn randomly from $\\mathbb{P}$, noted `X_p`, to be:"
   ]
  },
  {
   "cell_type": "code",
   "execution_count": 12,
   "metadata": {},
   "outputs": [
    {
     "name": "stdout",
     "output_type": "stream",
     "text": [
      "X_p is: \n",
      " [1.417022   1.72032449]\n"
     ]
    }
   ],
   "source": [
    "m = 2\n",
    "a = 1\n",
    "b = 2\n",
    "np.random.seed(1) # random seed for reproducability\n",
    "X_p = np.random.uniform(a, b, m)\n",
    "print('X_p is: \\n', X_p)"
   ]
  },
  {
   "cell_type": "markdown",
   "metadata": {},
   "source": [
    "We choose the samples $\\left\\{X_1^{(2)}, X_2^{(2)}, \\ldots, X_n^{(2)}\\right\\}$ drawn randomly from $\\mathbb{Q}$, noted `X_q`, to be:"
   ]
  },
  {
   "cell_type": "code",
   "execution_count": 13,
   "metadata": {},
   "outputs": [
    {
     "name": "stdout",
     "output_type": "stream",
     "text": [
      "X_q is: \n",
      " [9.417022   9.72032449]\n"
     ]
    }
   ],
   "source": [
    "n = 2\n",
    "r = 9\n",
    "s = 10\n",
    "np.random.seed(1) # random seed for reproducability\n",
    "X_q = np.random.uniform(r, s, n)\n",
    "print('X_q is: \\n', X_q)"
   ]
  },
  {
   "cell_type": "markdown",
   "metadata": {},
   "source": [
    "Thus, we have:"
   ]
  },
  {
   "cell_type": "code",
   "execution_count": 14,
   "metadata": {},
   "outputs": [
    {
     "name": "stdout",
     "output_type": "stream",
     "text": [
      "X is: \n",
      " [1.417022   1.72032449 9.417022   9.72032449] \n",
      "\n",
      "N is: \n",
      " 4\n"
     ]
    }
   ],
   "source": [
    "X = np.concatenate((X_p, X_q), axis=0)\n",
    "print('X is: \\n', X, '\\n')\n",
    "\n",
    "N = m+n\n",
    "print('N is: \\n', N)"
   ]
  },
  {
   "cell_type": "markdown",
   "metadata": {},
   "source": [
    "## Getting the canonical form of the linear programming problem"
   ]
  },
  {
   "cell_type": "code",
   "execution_count": 15,
   "metadata": {},
   "outputs": [],
   "source": [
    "def construct_c(X_p, X_q):\n",
    "    m = len(X_p)\n",
    "    n = len(X_q)\n",
    "    \n",
    "    Y = [1/m]*m + [-1/n]*n\n",
    "    \n",
    "    return np.asarray(Y)"
   ]
  },
  {
   "cell_type": "code",
   "execution_count": 16,
   "metadata": {},
   "outputs": [
    {
     "name": "stdout",
     "output_type": "stream",
     "text": [
      "c is: \n",
      " [ 0.5  0.5 -0.5 -0.5]\n"
     ]
    }
   ],
   "source": [
    "c = construct_c(X_p, X_q)\n",
    "print('c is: \\n', c)"
   ]
  },
  {
   "cell_type": "code",
   "execution_count": 17,
   "metadata": {},
   "outputs": [],
   "source": [
    "def rho(x,y):\n",
    "    return abs(x-y)"
   ]
  },
  {
   "cell_type": "code",
   "execution_count": 18,
   "metadata": {},
   "outputs": [],
   "source": [
    "def construct_b(X_p, X_q):\n",
    "    \n",
    "    X = np.concatenate((X_p, X_q), axis=0)\n",
    "    N = len(X)\n",
    "    \n",
    "    b_part = []\n",
    "    for i in range(N):\n",
    "        for j in range(i+1, N):\n",
    "            b_part.append(rho(X[i], X[j]))\n",
    "    \n",
    "    # Now, we duplicate each row to obtain a list of size 2*N\n",
    "    b = []\n",
    "    for i in range(N):\n",
    "        b.append(b_part[i])\n",
    "        b.append(b_part[i])\n",
    "    \n",
    "    return b"
   ]
  },
  {
   "cell_type": "code",
   "execution_count": 19,
   "metadata": {},
   "outputs": [
    {
     "name": "stdout",
     "output_type": "stream",
     "text": [
      "b is: \n",
      " [0.3033024887395839, 0.3033024887395839, 8.0, 8.0, 8.303302488739584, 8.303302488739584, 7.696697511260416, 7.696697511260416]\n"
     ]
    }
   ],
   "source": [
    "b = construct_b(X_p, X_q)\n",
    "print('b is: \\n', b)"
   ]
  },
  {
   "cell_type": "code",
   "execution_count": 20,
   "metadata": {},
   "outputs": [],
   "source": [
    "def construct_M(X_p, X_q):\n",
    "    \n",
    "    X = np.concatenate((X_p, X_q), axis=0)\n",
    "    N = len(X)\n",
    "    \n",
    "    M = []\n",
    "    for i in range(N):\n",
    "        for j in range(i+1, N):\n",
    "            l_M_1 = [0]*N\n",
    "            l_M_1[i] = 1\n",
    "            l_M_1[j] = -1\n",
    "            M.append(l_M_1)\n",
    "            l_M_2 = [0]*N\n",
    "            l_M_2[i] = -1\n",
    "            l_M_2[j] = 1\n",
    "            M.append(l_M_2)\n",
    "    M = np.asarray(M)\n",
    "\n",
    "    return M.astype(int)"
   ]
  },
  {
   "cell_type": "code",
   "execution_count": 21,
   "metadata": {},
   "outputs": [
    {
     "name": "stdout",
     "output_type": "stream",
     "text": [
      "M is: \n",
      " [[ 1 -1  0  0]\n",
      " [-1  1  0  0]\n",
      " [ 1  0 -1  0]\n",
      " [-1  0  1  0]\n",
      " [ 1  0  0 -1]\n",
      " [-1  0  0  1]\n",
      " [ 0  1 -1  0]\n",
      " [ 0 -1  1  0]\n",
      " [ 0  1  0 -1]\n",
      " [ 0 -1  0  1]\n",
      " [ 0  0  1 -1]\n",
      " [ 0  0 -1  1]]\n"
     ]
    }
   ],
   "source": [
    "M = construct_M(X_p, X_q)\n",
    "print('M is: \\n', M)"
   ]
  },
  {
   "cell_type": "markdown",
   "metadata": {},
   "source": [
    "## Using `PuLP` to solve the obtained linear programming problem\n",
    "\n",
    "We rely on [test5](https://github.com/coin-or/pulp/blob/master/examples/test5.py) of the official `PuLP` examples to define our LP (linear programming) problem with matrices.\n",
    "\n",
    "From the previous subsection, we have:"
   ]
  },
  {
   "cell_type": "code",
   "execution_count": 22,
   "metadata": {},
   "outputs": [
    {
     "name": "stdout",
     "output_type": "stream",
     "text": [
      "N is: \n",
      " 4 \n",
      "\n",
      "c is: \n",
      " [ 0.5  0.5 -0.5 -0.5] \n",
      "\n",
      "M is: \n",
      " [[ 1 -1  0  0]\n",
      " [-1  1  0  0]\n",
      " [ 1  0 -1  0]\n",
      " [-1  0  1  0]\n",
      " [ 1  0  0 -1]\n",
      " [-1  0  0  1]\n",
      " [ 0  1 -1  0]\n",
      " [ 0 -1  1  0]\n",
      " [ 0  1  0 -1]\n",
      " [ 0 -1  0  1]\n",
      " [ 0  0  1 -1]\n",
      " [ 0  0 -1  1]] \n",
      "\n",
      "b is: \n",
      " [0.3033024887395839, 0.3033024887395839, 8.0, 8.0, 8.303302488739584, 8.303302488739584, 7.696697511260416, 7.696697511260416]\n"
     ]
    }
   ],
   "source": [
    "print('N is: \\n', N, '\\n')\n",
    "print('c is: \\n', c, '\\n')\n",
    "print('M is: \\n', M, '\\n')\n",
    "print('b is: \\n', b)"
   ]
  },
  {
   "cell_type": "markdown",
   "metadata": {},
   "source": [
    "We define our LP problem:"
   ]
  },
  {
   "cell_type": "code",
   "execution_count": 23,
   "metadata": {},
   "outputs": [],
   "source": [
    "prob = LpProblem(\"LP problem for estimating the Kantorovich metric\", LpMaximize)"
   ]
  },
  {
   "cell_type": "markdown",
   "metadata": {},
   "source": [
    "We create our vector of $N$ continuous variables:"
   ]
  },
  {
   "cell_type": "code",
   "execution_count": 24,
   "metadata": {},
   "outputs": [],
   "source": [
    "a = LpVariable.matrix(\"a\", list(range(N)))"
   ]
  },
  {
   "cell_type": "markdown",
   "metadata": {},
   "source": [
    "We define our objective function:"
   ]
  },
  {
   "cell_type": "code",
   "execution_count": 25,
   "metadata": {},
   "outputs": [],
   "source": [
    "prob += lpDot(c, a)"
   ]
  },
  {
   "cell_type": "markdown",
   "metadata": {},
   "source": [
    "We define our number of constraints:"
   ]
  },
  {
   "cell_type": "code",
   "execution_count": 26,
   "metadata": {},
   "outputs": [],
   "source": [
    "p = 2*N"
   ]
  },
  {
   "cell_type": "markdown",
   "metadata": {},
   "source": [
    "We define our constraints:"
   ]
  },
  {
   "cell_type": "code",
   "execution_count": 27,
   "metadata": {},
   "outputs": [],
   "source": [
    "for i in range(p):\n",
    "    prob += lpDot(M[i], a) <= b[i]"
   ]
  },
  {
   "cell_type": "markdown",
   "metadata": {},
   "source": [
    "We print our LP problem:"
   ]
  },
  {
   "cell_type": "code",
   "execution_count": 28,
   "metadata": {},
   "outputs": [
    {
     "name": "stdout",
     "output_type": "stream",
     "text": [
      "LP problem for estimating the Kantorovich metric:\n",
      "MAXIMIZE\n",
      "0.5*a_0 + 0.5*a_1 + -0.5*a_2 + -0.5*a_3 + 0.0\n",
      "SUBJECT TO\n",
      "_C1: a_0 - a_1 <= 0.30330248874\n",
      "\n",
      "_C2: - a_0 + a_1 <= 0.30330248874\n",
      "\n",
      "_C3: a_0 - a_2 <= 8\n",
      "\n",
      "_C4: - a_0 + a_2 <= 8\n",
      "\n",
      "_C5: a_0 - a_3 <= 8.30330248874\n",
      "\n",
      "_C6: - a_0 + a_3 <= 8.30330248874\n",
      "\n",
      "_C7: a_1 - a_2 <= 7.69669751126\n",
      "\n",
      "_C8: - a_1 + a_2 <= 7.69669751126\n",
      "\n",
      "VARIABLES\n",
      "a_0 free Continuous\n",
      "a_1 free Continuous\n",
      "a_2 free Continuous\n",
      "a_3 free Continuous\n",
      "\n"
     ]
    }
   ],
   "source": [
    "print(prob)"
   ]
  },
  {
   "cell_type": "markdown",
   "metadata": {},
   "source": [
    "We solve our problem:"
   ]
  },
  {
   "cell_type": "code",
   "execution_count": 29,
   "metadata": {},
   "outputs": [
    {
     "data": {
      "text/plain": [
       "1"
      ]
     },
     "execution_count": 29,
     "metadata": {},
     "output_type": "execute_result"
    }
   ],
   "source": [
    "prob.solve()"
   ]
  },
  {
   "cell_type": "markdown",
   "metadata": {},
   "source": [
    "We print the status of our solved LP problem:"
   ]
  },
  {
   "cell_type": "code",
   "execution_count": 30,
   "metadata": {},
   "outputs": [
    {
     "name": "stdout",
     "output_type": "stream",
     "text": [
      "Status: Optimal\n"
     ]
    }
   ],
   "source": [
    "print(\"Status:\", LpStatus[prob.status])"
   ]
  },
  {
   "cell_type": "markdown",
   "metadata": {},
   "source": [
    "We print the value of the variables at the optimum:"
   ]
  },
  {
   "cell_type": "code",
   "execution_count": 31,
   "metadata": {},
   "outputs": [
    {
     "name": "stdout",
     "output_type": "stream",
     "text": [
      "a_0 = 0.0\n",
      "a_1 = 0.0\n",
      "a_2 = -7.6966975\n",
      "a_3 = -8.3033025\n"
     ]
    }
   ],
   "source": [
    "for v in prob.variables():\n",
    "    print(v.name, \"=\", v.varValue)"
   ]
  },
  {
   "cell_type": "markdown",
   "metadata": {},
   "source": [
    "We print the value of the objective:"
   ]
  },
  {
   "cell_type": "code",
   "execution_count": 32,
   "metadata": {},
   "outputs": [
    {
     "name": "stdout",
     "output_type": "stream",
     "text": [
      "objective= 8.0\n"
     ]
    }
   ],
   "source": [
    "print(\"objective=\", value(prob.objective))"
   ]
  },
  {
   "cell_type": "markdown",
   "metadata": {},
   "source": [
    "After solving, the value of objective function is the estimation of our Kantorovich metric.\n",
    "\n",
    "As in subsubsection 2.1.3 of the report, the value is close close to $8$ (because $d=1$)."
   ]
  },
  {
   "cell_type": "markdown",
   "metadata": {},
   "source": [
    "# Defining a generic function for computing the estimate of the Kantorovich metric $W$\n",
    "\n",
    "## Defining the generic function\n",
    "\n",
    "We regroup all we did preivously under one generic `kantorovich_metric` function:"
   ]
  },
  {
   "cell_type": "code",
   "execution_count": 33,
   "metadata": {},
   "outputs": [],
   "source": [
    "def kantorovich_metric(X_p, X_q):\n",
    "    \n",
    "    X = np.concatenate((X_p, X_q), axis=0)\n",
    "    m = len(X_p)\n",
    "    n = len(X_q)\n",
    "    N = m+n\n",
    "    \n",
    "    c = construct_c(X_p, X_q)\n",
    "    b = construct_b(X_p, X_q)\n",
    "    M = construct_M(X_p, X_q)\n",
    "    \n",
    "    prob = LpProblem(\"LP problem for estimating the Kantorovich metric\", LpMaximize)\n",
    "    a = LpVariable.matrix(\"a\", list(range(N)))\n",
    "    prob += lpDot(c, a)\n",
    "    p = 2*N\n",
    "    for i in range(p):\n",
    "        prob += lpDot(M[i], a) <= b[i]\n",
    "    prob.solve()\n",
    "    \n",
    "#     for v in prob.variables():\n",
    "#         print(v.name, \"=\", v.varValue)\n",
    "        \n",
    "#     print(\"objective=\", value(prob.objective))\n",
    "\n",
    "    return value(prob.objective)"
   ]
  },
  {
   "cell_type": "markdown",
   "metadata": {},
   "source": [
    "Now, we check if we obtain the same result as previously:"
   ]
  },
  {
   "cell_type": "code",
   "execution_count": 34,
   "metadata": {},
   "outputs": [
    {
     "name": "stdout",
     "output_type": "stream",
     "text": [
      "The empirical Kantorovich metric is: \n",
      " 8.154208364466665\n"
     ]
    }
   ],
   "source": [
    "np.random.seed(1) # random seed for reproducability\n",
    "X_p = np.random.uniform(1, 2, 15)\n",
    "np.random.seed(1) # random seed for reproducability\n",
    "X_q = np.random.uniform(9, 10, 15)\n",
    "W = kantorovich_metric(X_p, X_q)\n",
    "print('The empirical Kantorovich metric is: \\n', W)"
   ]
  },
  {
   "cell_type": "markdown",
   "metadata": {},
   "source": [
    "## The memory error due to the linear programming problem\n",
    "\n",
    "We try out some other simulations with more samples:"
   ]
  },
  {
   "cell_type": "code",
   "execution_count": 35,
   "metadata": {},
   "outputs": [
    {
     "name": "stdout",
     "output_type": "stream",
     "text": [
      "The empirical Kantorovich metric is: \n",
      " 8.154208364466665\n",
      "The processing time is: \n",
      " 0:00:02.104539\n"
     ]
    }
   ],
   "source": [
    "t_start = process_time()\n",
    "np.random.seed(1) # random seed for reproducability\n",
    "X_p = np.random.uniform(1, 2, 100)\n",
    "np.random.seed(1) # random seed for reproducability\n",
    "X_q = np.random.uniform(9, 10, 100)\n",
    "kantorovich_metric(X_p, X_q)\n",
    "t_stop = process_time()\n",
    "print('The empirical Kantorovich metric is: \\n', W)\n",
    "print('The processing time is: \\n', datetime.timedelta(seconds=t_stop-t_start))"
   ]
  },
  {
   "cell_type": "code",
   "execution_count": 36,
   "metadata": {},
   "outputs": [
    {
     "name": "stdout",
     "output_type": "stream",
     "text": [
      "The empirical Kantorovich metric is: \n",
      " 8.343407578285502\n",
      "The processing time is: \n",
      " 0:00:10.394019\n"
     ]
    }
   ],
   "source": [
    "t_start = process_time()\n",
    "np.random.seed(1) # random seed for reproducability\n",
    "X_p = np.random.uniform(1, 2, 200)\n",
    "np.random.seed(1) # random seed for reproducability\n",
    "X_q = np.random.uniform(9, 10, 200)\n",
    "W = kantorovich_metric(X_p, X_q)\n",
    "t_stop = process_time()\n",
    "print('The empirical Kantorovich metric is: \\n', W)\n",
    "print('The processing time is: \\n', datetime.timedelta(seconds=t_stop-t_start))"
   ]
  },
  {
   "cell_type": "code",
   "execution_count": 37,
   "metadata": {},
   "outputs": [],
   "source": [
    "# t_start = process_time()\n",
    "# np.random.seed(1) # random seed for reproducability\n",
    "# X_p = np.random.uniform(1, 2, 300)\n",
    "# np.random.seed(1) # random seed for reproducability\n",
    "# X_q = np.random.uniform(9, 10, 300)\n",
    "# W = kantorovich_metric(X_p, X_q)\n",
    "# t_stop = process_time()\n",
    "# print('The empirical Kantorovich metric is: \\n', W)\n",
    "# print('The processing time is: \\n', datetime.timedelta(seconds=t_stop-t_start))"
   ]
  },
  {
   "cell_type": "markdown",
   "metadata": {},
   "source": [
    "We obtained a memory error for $300$ samples per distribution !\n",
    "\n",
    "The problem is that when we have more than $400$ total samples (for the two distributions), $M$ already has $400 \\times 399 \\times 400 = 63~840~000$ values and we have a memory problem if we go above $400$ total samples. Hence, we can not have more than $200$ samples per distribution.\n",
    "\n",
    "Note that the problem is not really about the computing time (which of course, we could have tried to improve)."
   ]
  },
  {
   "cell_type": "markdown",
   "metadata": {},
   "source": [
    "# Running several simulations to interpret $W$\n",
    "\n",
    "Check how it evolves with the number of samples, compute the empirical standard deviation and mean."
   ]
  },
  {
   "cell_type": "markdown",
   "metadata": {},
   "source": [
    "## Comparing two normal distributions\n",
    "\n",
    "Here we consider two normal distributions $\\mathbb{P} = \\mathcal{N}(\\mu_p, \\sigma_p)$ and $\\mathbb{Q} = \\mathcal{N}(\\mu_q, \\sigma_q)$.\n",
    "\n",
    "### Influence of the difference of means $\\mu_q-\\mu_p$ on $W$"
   ]
  },
  {
   "cell_type": "code",
   "execution_count": 38,
   "metadata": {},
   "outputs": [
    {
     "data": {
      "image/png": "[encoded data removed]",
      "text/plain": [
       "<Figure size 576x432 with 1 Axes>"
      ]
     },
     "metadata": {
      "needs_background": "light"
     },
     "output_type": "display_data"
    }
   ],
   "source": [
    "mu_p, sigma_p, n_p, mu_q, sigma_q, n_q = 0, 2, 50, 1, 2, 50\n",
    "X_p = np.random.normal(mu_p, sigma_p, n_p)\n",
    "X_q = np.random.normal(mu_q, sigma_q, n_q)\n",
    "\n",
    "txt = 'Histograms of $X_p$ and $X_q$ from normal distributions '\n",
    "txt = txt + '$\\mathcal{N}(\\mu_p, \\sigma_p)$ and $\\mathcal{N}(\\mu_q, \\sigma_q)$ \\n'\n",
    "txt = txt + 'The Kantorovich metric $W(X_p, X_q)$ is %1.3f' % kantorovich_metric(X_p, X_q)\n",
    "plt.title(txt)\n",
    "sns.distplot(X_p) ;\n",
    "sns.distplot(X_q) ;\n",
    "txt1 = '$\\mu_p = %1.1f$, $\\sigma_p = %1.0f$, $n_p= %1.0f$' % (mu_p, sigma_p, n_p)\n",
    "txt2 = '$\\mu_q = %1.1f$, $\\sigma_q = %1.0f$, $n_q= %1.0f$' % (mu_q, sigma_q, n_q)\n",
    "plt.legend([txt1, txt2]) ;\n",
    "plt.savefig('W_plot_1.png', dpi=120) ; # to save the figure"
   ]
  },
  {
   "cell_type": "code",
   "execution_count": 39,
   "metadata": {},
   "outputs": [
    {
     "data": {
      "image/png": "[encoded data removed]",
      "text/plain": [
       "<Figure size 576x432 with 1 Axes>"
      ]
     },
     "metadata": {
      "needs_background": "light"
     },
     "output_type": "display_data"
    }
   ],
   "source": [
    "mu_p, sigma_p, n_p, mu_q, sigma_q, n_q = 0, 2, 50, 5, 2, 50\n",
    "X_p = np.random.normal(mu_p, sigma_p, n_p)\n",
    "X_q = np.random.normal(mu_q, sigma_q, n_q)\n",
    "\n",
    "txt = 'Histograms of $X_p$ and $X_q$ from normal distributions '\n",
    "txt = txt + '$\\mathcal{N}(\\mu_p, \\sigma_p)$ and $\\mathcal{N}(\\mu_q, \\sigma_q)$ \\n'\n",
    "txt = txt + 'The Kantorovich metric $W(X_p, X_q)$ is %1.3f' % kantorovich_metric(X_p, X_q)\n",
    "plt.title(txt)\n",
    "sns.distplot(X_p) ;\n",
    "sns.distplot(X_q) ;\n",
    "txt1 = '$\\mu_p = %1.1f$, $\\sigma_p = %1.0f$, $n_p= %1.0f$' % (mu_p, sigma_p, n_p)\n",
    "txt2 = '$\\mu_q = %1.1f$, $\\sigma_q = %1.0f$, $n_q= %1.0f$' % (mu_q, sigma_q, n_q)\n",
    "plt.legend([txt1, txt2]) ;\n",
    "plt.savefig('W_plot_2.png', dpi=120) ; # to save the figure"
   ]
  },
  {
   "cell_type": "code",
   "execution_count": 40,
   "metadata": {},
   "outputs": [],
   "source": [
    "l_IPM_mu = []\n",
    "l_diff_mu = []\n",
    "\n",
    "mu_p = 0\n",
    "sigma_p = 2\n",
    "n_p = 30 # after several simulations, 30 seems enough\n",
    "X_p = np.random.normal(mu_p, sigma_p, n_p)\n",
    "\n",
    "sigma_q = 2\n",
    "n_q = n_p\n",
    "\n",
    "l_abs = np.arange(0, 20, 0.5)\n",
    "for mu_q in l_abs:\n",
    "    X_q = np.random.normal(mu_q, sigma_q, n_q)\n",
    "    l_diff_mu.append([mu_q-mu_p])\n",
    "    l_IPM_mu.append([kantorovich_metric(X_p, X_q)])"
   ]
  },
  {
   "cell_type": "code",
   "execution_count": 41,
   "metadata": {},
   "outputs": [
    {
     "data": {
      "image/png": "[encoded data removed]",
      "text/plain": [
       "<Figure size 576x432 with 1 Axes>"
      ]
     },
     "metadata": {
      "needs_background": "light"
     },
     "output_type": "display_data"
    }
   ],
   "source": [
    "txt = 'Comparison of two normal distributions $\\mathcal{N}(\\mu_p, \\sigma_p)$ and $\\mathcal{N}(\\mu_q, \\sigma_q)$ \\n'\n",
    "txt = txt + 'with $n_p = %1.0f$, $\\mu_p = %1.0f$, $\\sigma_p = %1.0f, $' % (n_p, mu_p, sigma_p)\n",
    "txt = txt + '$n_q = %1.0f$, $\\sigma_q = %1.0f$' % (n_q, sigma_q)\n",
    "plt.title(txt)\n",
    "plt.xlabel('Difference of means $\\mu_q-\\mu_p$')\n",
    "plt.ylabel('Empirical Kantorovich metric $W(p, q)$')\n",
    "plt.plot(l_diff_mu, l_IPM_mu, 'o') ;\n",
    "plt.savefig('W_diff_mu.png', dpi=120) # to save the figure"
   ]
  },
  {
   "cell_type": "markdown",
   "metadata": {},
   "source": [
    "Can we say that the dependency of $W(p,q)$ to $\\mu_q-\\mu_p$ is linear? Yes. Indeed, we have:"
   ]
  },
  {
   "cell_type": "code",
   "execution_count": 42,
   "metadata": {},
   "outputs": [
    {
     "name": "stdout",
     "output_type": "stream",
     "text": [
      "The regression score is: \n",
      " 0.9950070929018815\n",
      "The regression coefficients are: \n",
      " [[0.97945765]]\n",
      "The regression intercept is: \n",
      " [2.09338502]\n"
     ]
    }
   ],
   "source": [
    "reg = LinearRegression()\n",
    "X = np.power(np.asarray(l_diff_mu), 1)\n",
    "y = np.asarray(l_IPM_mu)\n",
    "\n",
    "reg.fit(X, y)\n",
    "print('The regression score is: \\n', reg.score(X, y))\n",
    "print('The regression coefficients are: \\n', reg.coef_)\n",
    "print('The regression intercept is: \\n', reg.intercept_)"
   ]
  },
  {
   "cell_type": "markdown",
   "metadata": {},
   "source": [
    "### Influence of the difference of standard deviations $\\sigma_q-\\sigma_p$ on $W$"
   ]
  },
  {
   "cell_type": "code",
   "execution_count": 43,
   "metadata": {},
   "outputs": [],
   "source": [
    "l_IPM_sigma = []\n",
    "l_diff_sigma = []\n",
    "\n",
    "mu_p = 0\n",
    "sigma_p = 2\n",
    "n_p = 30 # after several simulations, 30 seems enough\n",
    "X_p = np.random.normal(mu_p, sigma_p, n_p)\n",
    "\n",
    "mu_q = 0\n",
    "n_q = n_p\n",
    "\n",
    "l_abs = np.arange(0, 10, 0.25)\n",
    "for sigma_q in l_abs:\n",
    "    X_q = np.random.normal(mu_q, sigma_q, n_q)\n",
    "    l_diff_sigma.append([sigma_q-sigma_p])\n",
    "    l_IPM_sigma.append([kantorovich_metric(X_p, X_q)])"
   ]
  },
  {
   "cell_type": "code",
   "execution_count": 44,
   "metadata": {},
   "outputs": [
    {
     "data": {
      "image/png": "[encoded data removed]",
      "text/plain": [
       "<Figure size 576x432 with 1 Axes>"
      ]
     },
     "metadata": {
      "needs_background": "light"
     },
     "output_type": "display_data"
    }
   ],
   "source": [
    "txt = 'Comparison of two normal distributions $\\mathcal{N}(\\mu_p, \\sigma_p)$ and $\\mathcal{N}(\\mu_q, \\sigma_q)$ \\n'\n",
    "txt = txt + 'with $n_p = %1.0f$, $\\mu_p = %1.0f$, $\\sigma_p = %1.0f, $' % (n_p, mu_p, sigma_p)\n",
    "txt = txt + '$n_q = %1.0f$, $\\mu_q = %1.0f$' % (n_q, mu_q)\n",
    "plt.title(txt)\n",
    "plt.xlabel('Difference of standard deviations $\\sigma_q-\\sigma_p$')\n",
    "plt.ylabel('Empirical Kantorovich metric $W(p, q)$')\n",
    "plt.plot(l_diff_sigma, l_IPM_sigma, 'o') ;\n",
    "plt.savefig('W_diff_sigma.png', dpi=120) # to save the figure"
   ]
  },
  {
   "cell_type": "code",
   "execution_count": 45,
   "metadata": {},
   "outputs": [
    {
     "name": "stdout",
     "output_type": "stream",
     "text": [
      "The regression score is: \n",
      " 0.9381017586843653\n",
      "The regression coefficients are: \n",
      " [[0.71797241]]\n",
      "The regression intercept is: \n",
      " [4.27741258]\n"
     ]
    }
   ],
   "source": [
    "reg = LinearRegression()\n",
    "X = np.power(np.asarray(l_diff_sigma), 1)\n",
    "y = np.asarray(l_IPM_sigma)\n",
    "\n",
    "reg.fit(X, y)\n",
    "print('The regression score is: \\n', reg.score(X, y))\n",
    "print('The regression coefficients are: \\n', reg.coef_)\n",
    "print('The regression intercept is: \\n', reg.intercept_)"
   ]
  },
  {
   "cell_type": "markdown",
   "metadata": {},
   "source": [
    "## Comparison of two uniform distributions\n",
    "\n",
    "Here we consider two normal distributions $\\mathbb{P} = \\mathbb{U}\\left([a, a+h]\\right)$ and $\\mathbb{Q} = \\mathbb{U}\\left([r, r+h]\\right)$ where $h$ is the length of the intervals.\n",
    "\n",
    "Note: $a$ is called the **interval start** of $[a, a+h]$."
   ]
  },
  {
   "cell_type": "code",
   "execution_count": 46,
   "metadata": {},
   "outputs": [],
   "source": [
    "l_IPM_unif = []\n",
    "l_diff_unif = []\n",
    "\n",
    "h = 2 # length of the intervals\n",
    "a = 0\n",
    "b = a+h\n",
    "n_p = 30 # after several simulations, 30 seems enough\n",
    "X_p = np.random.uniform(a, b, n_p)\n",
    "\n",
    "n_q = n_p\n",
    "\n",
    "l_abs = np.arange(0, 20, 0.5)\n",
    "for r in l_abs:\n",
    "    X_q = np.random.uniform(r, r+h, n_q)\n",
    "    l_diff_unif.append([r-a])\n",
    "    l_IPM_unif.append([kantorovich_metric(X_p, X_q)])"
   ]
  },
  {
   "cell_type": "code",
   "execution_count": 47,
   "metadata": {},
   "outputs": [
    {
     "data": {
      "image/png": "[encoded data removed]",
      "text/plain": [
       "<Figure size 576x432 with 1 Axes>"
      ]
     },
     "metadata": {
      "needs_background": "light"
     },
     "output_type": "display_data"
    }
   ],
   "source": [
    "txt = 'Comparison of two uniform distributions $\\mathbb{U}([a, a+h])$ and $\\mathbb{U}([r, r+h])$ \\n'\n",
    "txt = txt + 'with $n_p = %1.0f$, $a = %1.0f$, $h = %1.0f, $' % (n_p, a, h)\n",
    "txt = txt + '$n_q = %1.0f$, $h = %1.0f$' % (n_q, h)\n",
    "plt.title(txt)\n",
    "plt.xlabel('Difference of interval starts $r-a$')\n",
    "plt.ylabel('Empirical Kantorovich metric $W(p, q)$')\n",
    "plt.plot(l_diff_unif, l_IPM_unif, 'o') ;\n",
    "plt.savefig('W_diff_unif.png', dpi=120) # to save the figure"
   ]
  },
  {
   "cell_type": "code",
   "execution_count": 48,
   "metadata": {},
   "outputs": [
    {
     "name": "stdout",
     "output_type": "stream",
     "text": [
      "The regression score is: \n",
      " 0.9995502536187172\n",
      "The regression coefficients are: \n",
      " [[1.0000459]]\n",
      "The regression intercept is: \n",
      " [1.22027871]\n"
     ]
    }
   ],
   "source": [
    "reg = LinearRegression()\n",
    "X = np.power(np.asarray(l_diff_unif), 1)\n",
    "y = np.asarray(l_IPM_unif)\n",
    "\n",
    "reg.fit(X, y)\n",
    "print('The regression score is: \\n', reg.score(X, y))\n",
    "print('The regression coefficients are: \\n', reg.coef_)\n",
    "print('The regression intercept is: \\n', reg.intercept_)"
   ]
  },
  {
   "cell_type": "markdown",
   "metadata": {},
   "source": [
    "# Choquet integral\n",
    "\n",
    "## Normal distributions"
   ]
  },
  {
   "cell_type": "code",
   "execution_count": 65,
   "metadata": {},
   "outputs": [],
   "source": [
    "import pandas as pd\n",
    "import numpy as np\n",
    "import random\n",
    "\n",
    "from matplotlib import pyplot as plt\n",
    "import seaborn as sns\n",
    "sns.set()"
   ]
  },
  {
   "cell_type": "code",
   "execution_count": 66,
   "metadata": {},
   "outputs": [],
   "source": [
    "X1_df = pd.read_csv('X1.csv', sep=',', header=None)\n",
    "X2_df = pd.read_csv('X2.csv', sep=',', header=None)\n",
    "\n",
    "X1_array = X1_df.values[0]\n",
    "X2_array = X2_df.values[0]\n",
    "\n",
    "X1_list = X1_df.values.tolist()\n",
    "X2_list = X2_df.values.tolist()"
   ]
  },
  {
   "cell_type": "code",
   "execution_count": 70,
   "metadata": {},
   "outputs": [
    {
     "data": {
      "image/png": "[encoded data removed]",
      "text/plain": [
       "<Figure size 576x432 with 1 Axes>"
      ]
     },
     "metadata": {},
     "output_type": "display_data"
    }
   ],
   "source": [
    "sns.distplot(X1_list) ;\n",
    "sns.distplot(X2_list) ;\n",
    "plt.title('Observing the histogram of our samples') ;\n",
    "plt.legend(['direct MC', 'new formula']) ;"
   ]
  },
  {
   "cell_type": "code",
   "execution_count": 73,
   "metadata": {},
   "outputs": [
    {
     "data": {
      "image/png": "[encoded data removed]",
      "text/plain": [
       "<Figure size 576x432 with 1 Axes>"
      ]
     },
     "metadata": {},
     "output_type": "display_data"
    }
   ],
   "source": [
    "X1 = random.sample(X1_list, 200)\n",
    "X2 = random.sample(X2_list, 200)\n",
    "\n",
    "sns.distplot(X1) ;\n",
    "sns.distplot(X2) ;\n",
    "plt.title('Observing the histogram of our randomly selected samples') ;\n",
    "plt.legend(['direct MC', 'new formula']) ;"
   ]
  },
  {
   "cell_type": "code",
   "execution_count": 74,
   "metadata": {},
   "outputs": [
    {
     "data": {
      "text/plain": [
       "0.725745235"
      ]
     },
     "execution_count": 74,
     "metadata": {},
     "output_type": "execute_result"
    }
   ],
   "source": [
    "kantorovich_metric(X1, X2)"
   ]
  }
 ],
 "metadata": {
  "kernelspec": {
   "display_name": "Python 3",
   "language": "python",
   "name": "python3"
  },
  "language_info": {
   "codemirror_mode": {
    "name": "ipython",
    "version": 3
   },
   "file_extension": ".py",
   "mimetype": "text/x-python",
   "name": "python",
   "nbconvert_exporter": "python",
   "pygments_lexer": "ipython3",
   "version": "3.7.4"
  },
  "toc": {
   "base_numbering": 1,
   "nav_menu": {},
   "number_sections": true,
   "sideBar": true,
   "skip_h1_title": false,
   "title_cell": "Table of Contents",
   "title_sidebar": "Contents",
   "toc_cell": true,
   "toc_position": {
    "height": "calc(100% - 180px)",
    "left": "10px",
    "top": "150px",
    "width": "308.833px"
   },
   "toc_section_display": true,
   "toc_window_display": true
  }
 },
 "nbformat": 4,
 "nbformat_minor": 2
}
